{
 "cells": [
  {
   "cell_type": "code",
   "execution_count": null,
   "metadata": {},
   "outputs": [],
   "source": [
    "import pandas as pd\n",
    "from sqlalchemy import create_engine\n"
   ]
  },
  {
   "cell_type": "code",
   "execution_count": null,
   "metadata": {},
   "outputs": [],
   "source": [
    "# load super bowl data\n",
    "super_bowl_file = \"Resources/Super_Bowl.csv\"\n",
    "super_bowl_df = pd.read_csv(super_bowl_file)\n",
    "super_bowl_df.head()"
   ]
  },
  {
   "cell_type": "code",
   "execution_count": null,
   "metadata": {},
   "outputs": [],
   "source": [
    "# clean sb df (make sb # index, drop unneccesary columns, concatenate city/state columns and rename as needed)\n",
    "cleaned_sb_df = super_bowl_df.drop([\"Date\", \"QB  Winner\", \"Coach Winner\", \"Coach Loser\", \"Referee\", \"Umpire\", \"Head Linesman\", \"Line Judge\", \"Field Judge\", \"Back Judge\", \"Side Judge\", \"Point Difference\", \"QB Loser\"], axis =1)\n",
    "cleaned_sb_df = cleaned_sb_df[[\"SB\", \"Attendance\", \"Winner\", \"Winning Pts\", \"Loser\", \"Losing Pts\", \"MVP\", \"Stadium\", \"City\", \"State\"]]\n",
    "cleaned_sb_df = cleaned_sb_df.rename(columns={\"SB\":\"sb\", \"Attendance\":\"attendance\", \"Winner\":\"winner\", \"Winning Pts\":\"winning_pts\", \"Loser\":\"loser\", \"Losing Pts\":\"losing_pts\", \"MVP\":\"mvp\", \"Stadium\":\"stadium\", \"City\":\"city\", \"State\":\"state\"})\n",
    "cleaned_sb_df['city_state'] = cleaned_sb_df['city'] + [' '] + cleaned_sb_df['state']\n",
    "cleaned_sb_df=cleaned_sb_df.drop([\"city\", \"state\"], axis=1)\n",
    "cleaned_sb_df.reset_index(drop=True)\n",
    "cleaned_sb_df.head()\n",
    "cleaned_sb_df.head()\n"
   ]
  },
  {
   "cell_type": "code",
   "execution_count": null,
   "metadata": {},
   "outputs": [],
   "source": [
    "# load us cities needed for lat/long data \n",
    "us_cities_file = \"Resources/uscities.csv\"\n",
    "us_cities_df = pd.read_csv(us_cities_file)\n",
    "us_cities_df.head()"
   ]
  },
  {
   "cell_type": "code",
   "execution_count": null,
   "metadata": {},
   "outputs": [],
   "source": [
    "# clean us cities df (drop unneccesary columns, concatenate city/state columns and rename as needed)\n",
    "cleaned_us_cities_df = us_cities_df[[\"city\", \"state_name\", \"lat\", \"lng\"]]\n",
    "cleaned_us_cities_df = cleaned_us_cities_df.rename(columns={\"state_name\":\"state\"})\n",
    "cleaned_us_cities_df['city_state'] = cleaned_us_cities_df['city'] + [' '] + cleaned_us_cities_df['state']\n",
    "cleaned_us_cities_df=cleaned_us_cities_df.drop([\"city\", \"state\"], axis=1)\n",
    "cleaned_us_cities_df = cleaned_us_cities_df[['city_state','lat','lng']]\n",
    "cleaned_us_cities_df.head()\n",
    "cleaned_us_cities_df.head()"
   ]
  },
  {
   "cell_type": "code",
   "execution_count": null,
   "metadata": {},
   "outputs": [],
   "source": [
    "merged_superbowl_df = pd.merge(cleaned_sb_df, cleaned_us_cities_df, on='city_state', how='left')\n",
    "superbowl = merged_superbowl_df.dropna()\n",
    "superbowl"
   ]
  },
  {
   "cell_type": "code",
   "execution_count": null,
   "metadata": {},
   "outputs": [],
   "source": [
    "connection_string = \"postgres:postgres@localhost:5432/Project_2\"\n",
    "engine = create_engine(f'postgresql://{connection_string}')"
   ]
  },
  {
   "cell_type": "code",
   "execution_count": null,
   "metadata": {},
   "outputs": [],
   "source": [
    "# Confirm tables\n",
    "engine.table_names()\n"
   ]
  },
  {
   "cell_type": "code",
   "execution_count": null,
   "metadata": {},
   "outputs": [],
   "source": [
    "superbowl.to_sql(name='superbowl', con=engine, if_exists='append', index=False)"
   ]
  },
  {
   "cell_type": "code",
   "execution_count": null,
   "metadata": {},
   "outputs": [],
   "source": []
  },
  {
   "cell_type": "code",
   "execution_count": null,
   "metadata": {},
   "outputs": [],
   "source": []
  }
 ],
 "metadata": {
  "kernelspec": {
   "display_name": "Python 3",
   "language": "python",
   "name": "python3"
  },
  "language_info": {
   "codemirror_mode": {
    "name": "ipython",
    "version": 3
   },
   "file_extension": ".py",
   "mimetype": "text/x-python",
   "name": "python",
   "nbconvert_exporter": "python",
   "pygments_lexer": "ipython3",
   "version": "3.6.9"
  }
 },
 "nbformat": 4,
 "nbformat_minor": 2
}
